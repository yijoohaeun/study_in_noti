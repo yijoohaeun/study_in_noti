{
 "cells": [
  {
   "cell_type": "markdown",
   "id": "ba56d354-0825-4658-81d9-8350f672fa2b",
   "metadata": {},
   "source": [
    "1. 사이킷런으로 회귀분석 진행 및 평가\n",
    "2. 회귀 평가 지표 직접 계산 - mse, mae, r2 score\n",
    "3. 딥러닝 모델 만들어 회귀분석 진행 및 평가"
   ]
  },
  {
   "cell_type": "code",
   "execution_count": 100,
   "id": "390932ba-2f1d-4f70-aae0-484a24a1aa6a",
   "metadata": {},
   "outputs": [],
   "source": [
    "from sklearn.model_selection import train_test_split\n",
    "from sklearn.preprocessing import StandardScaler\n",
    "from sklearn.linear_model import LinearRegression\n",
    "from sklearn.metrics import mean_squared_error, mean_absolute_error, r2_score\n",
    "import pandas as pd\n",
    "import numpy as np\n",
    "\n",
    "# 데이터 로딩\n",
    "data_url = \"http://lib.stat.cmu.edu/datasets/boston\"\n",
    "raw_df = pd.read_csv(data_url, sep=\"\\s+\", skiprows=22, header=None)\n",
    "X = np.hstack([raw_df.values[::2, :], raw_df.values[1::2, :2]])\n",
    "y = raw_df.values[1::2, 2]\n",
    "\n",
    "# 데이터 표준화 - Standard Scaling 사용\n",
    "scaler = StandardScaler()\n",
    "X = scaler.fit_transform(X)\n",
    "# 데이터 분할 (훈련 세트와 테스트 세트)\n",
    "tr_x, te_x, tr_y, te_y = train_test_split(X, y)\n",
    "# 선형 회귀 모델 생성 및 훈련\n",
    "lr = LinearRegression()\n",
    "\n",
    "# 테스트 세트에 대한 예측\n",
    "lr.fit(tr_x, tr_y)\n",
    "pre_y = lr.predict(te_x)"
   ]
  },
  {
   "cell_type": "code",
   "execution_count": 107,
   "id": "71d02931",
   "metadata": {},
   "outputs": [
    {
     "name": "stdout",
     "output_type": "stream",
     "text": [
      "mse: 164.00631473030012\n",
      "mae: 9.862595189244779\n",
      "r2_score: -0.7211471369722273\n"
     ]
    }
   ],
   "source": [
    "# 회귀 평가 지표 계산 mse, mae, r2 score 사용\n",
    "print('mse:', mean_squared_error(te_y, pre_y)) \n",
    "print('mae:', mean_absolute_error(te_y, pre_y))\n",
    "print('r2_score:', r2_score(te_y, pre_y))\n",
    "\n",
    "# mse: 22.458845291120426\n",
    "# mae: 3.4116444020643577\n",
    "# r2_score: 0.6685135563654563"
   ]
  },
  {
   "cell_type": "code",
   "execution_count": 108,
   "id": "5db0a857",
   "metadata": {},
   "outputs": [
    {
     "data": {
      "text/plain": [
       "164.0063147303001"
      ]
     },
     "execution_count": 108,
     "metadata": {},
     "output_type": "execute_result"
    }
   ],
   "source": [
    "# mse\n",
    "tt = (te_y - pre_y)**2\n",
    "mse = sum(tt)/len(tt)\n",
    "mse"
   ]
  },
  {
   "cell_type": "code",
   "execution_count": 109,
   "id": "0ad5d626",
   "metadata": {},
   "outputs": [
    {
     "data": {
      "text/plain": [
       "9.862595189244775"
      ]
     },
     "execution_count": 109,
     "metadata": {},
     "output_type": "execute_result"
    }
   ],
   "source": [
    "# mae\n",
    "tt = abs(te_y - pre_y)\n",
    "sum(tt)/len(tt)"
   ]
  },
  {
   "cell_type": "code",
   "execution_count": 97,
   "id": "b598ffe6",
   "metadata": {},
   "outputs": [],
   "source": [
    "sst = sum((te_y-mean_y)**2)"
   ]
  },
  {
   "cell_type": "code",
   "execution_count": 110,
   "id": "4f3a1355",
   "metadata": {},
   "outputs": [
    {
     "data": {
      "text/plain": [
       "-0.7211471369722271"
      ]
     },
     "execution_count": 110,
     "metadata": {},
     "output_type": "execute_result"
    }
   ],
   "source": [
    "#  r2\n",
    "import numpy as np\n",
    "mean_y =  np.mean(te_y)\n",
    "sse = sum((te_y-pre_y)**2)\n",
    "sst = sum((te_y-mean_y)**2)\n",
    "r2 = 1- sse/sst\n",
    "r2"
   ]
  },
  {
   "cell_type": "code",
   "execution_count": 112,
   "id": "820d4717",
   "metadata": {},
   "outputs": [
    {
     "data": {
      "text/plain": [
       "-0.7211471369722273"
      ]
     },
     "execution_count": 112,
     "metadata": {},
     "output_type": "execute_result"
    }
   ],
   "source": [
    "# 총 제곱합 (Total Sum of Squares, TSS)\n",
    "mean_y =  np.mean(te_y)\n",
    "tss = np.sum((te_y - mean_y)**2)\n",
    "\n",
    "# 잔차 제곱합 (Residual Sum of Squares, RSS)\n",
    "rss = np.sum((te_y - pre_y)**2)\n",
    "\n",
    "# R^2 스코어 계산\n",
    "r2 = 1 - (rss / tss)\n",
    "r2"
   ]
  },
  {
   "cell_type": "code",
   "execution_count": 101,
   "id": "783ad791-5c7b-4bff-a7c4-1992b9cf2e6a",
   "metadata": {},
   "outputs": [],
   "source": [
    "import tensorflow as tf\n",
    "from tensorflow.keras.models import Sequential\n",
    "from tensorflow.keras.layers import Dense\n",
    "\n",
    "# 데이터 표준화 - Standard Scaling 사용\n",
    "scaler.fit_transform(X)\n",
    "# 훈련 세트와 테스트 세트로 분할\n",
    "tr_x, te_x, tr_y, te_y = train_test_split(X, y)\n",
    "# 모델 정의\n",
    "seq = Sequential()\n",
    "# 모델 컴파일\n",
    "\n",
    "# 모델 훈련\n",
    "\n",
    "# 모델 평가\n",
    "\n",
    "# 모델 예측"
   ]
  },
  {
   "cell_type": "code",
   "execution_count": 99,
   "id": "5536a33f-51d0-4d21-97df-5958ae4d0411",
   "metadata": {},
   "outputs": [],
   "source": [
    "# 모델이 종속변동을 설명하지 못하는 정도"
   ]
  },
  {
   "cell_type": "code",
   "execution_count": null,
   "id": "0cead667-f667-48d7-a268-3620f2f4ee8d",
   "metadata": {},
   "outputs": [],
   "source": []
  },
  {
   "cell_type": "code",
   "execution_count": null,
   "id": "cf212c4e-f103-4961-b07f-456a3eabeadd",
   "metadata": {},
   "outputs": [],
   "source": []
  },
  {
   "cell_type": "code",
   "execution_count": null,
   "id": "d9c48a83-2f6c-4b5f-90b4-7abff40e6561",
   "metadata": {},
   "outputs": [],
   "source": []
  },
  {
   "cell_type": "code",
   "execution_count": null,
   "id": "1c6e7209-de36-4fe7-92e4-a2a7fadd02b9",
   "metadata": {},
   "outputs": [],
   "source": []
  },
  {
   "cell_type": "code",
   "execution_count": null,
   "id": "cb727d09-0ee0-4c64-b36a-6ec0a4a75a1a",
   "metadata": {},
   "outputs": [],
   "source": []
  }
 ],
 "metadata": {
  "kernelspec": {
   "display_name": "Python 3 (ipykernel)",
   "language": "python",
   "name": "python3"
  },
  "language_info": {
   "codemirror_mode": {
    "name": "ipython",
    "version": 3
   },
   "file_extension": ".py",
   "mimetype": "text/x-python",
   "name": "python",
   "nbconvert_exporter": "python",
   "pygments_lexer": "ipython3",
   "version": "3.9.12"
  }
 },
 "nbformat": 4,
 "nbformat_minor": 5
}
